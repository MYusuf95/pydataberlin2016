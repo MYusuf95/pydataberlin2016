{
 "cells": [
  {
   "cell_type": "markdown",
   "metadata": {},
   "source": [
    "We can create variables using typical assignment operator '='\n",
    "Under the hood variables hold references to literals."
   ]
  },
  {
   "cell_type": "code",
   "execution_count": 1,
   "metadata": {
    "collapsed": false
   },
   "outputs": [
    {
     "data": {
      "text/plain": [
       "10"
      ]
     },
     "execution_count": 1,
     "metadata": {},
     "output_type": "execute_result"
    }
   ],
   "source": [
    "a = 10"
   ]
  },
  {
   "cell_type": "code",
   "execution_count": 2,
   "metadata": {
    "collapsed": false
   },
   "outputs": [
    {
     "data": {
      "text/plain": [
       "15.3"
      ]
     },
     "execution_count": 2,
     "metadata": {},
     "output_type": "execute_result"
    }
   ],
   "source": [
    "b = 15.3"
   ]
  },
  {
   "cell_type": "code",
   "execution_count": 3,
   "metadata": {
    "collapsed": false
   },
   "outputs": [
    {
     "data": {
      "text/plain": [
       "25.3"
      ]
     },
     "execution_count": 3,
     "metadata": {},
     "output_type": "execute_result"
    }
   ],
   "source": [
    "simple_sum = a+b"
   ]
  },
  {
   "cell_type": "code",
   "execution_count": 4,
   "metadata": {
    "collapsed": false
   },
   "outputs": [
    {
     "data": {
      "text/plain": [
       "4.4127118923504455e6"
      ]
     },
     "execution_count": 4,
     "metadata": {},
     "output_type": "execute_result"
    }
   ],
   "source": [
    "simple_math_function = exp(b)"
   ]
  },
  {
   "cell_type": "markdown",
   "metadata": {},
   "source": [
    "We can use functions to initialise variables"
   ]
  },
  {
   "cell_type": "code",
   "execution_count": 5,
   "metadata": {
    "collapsed": false
   },
   "outputs": [
    {
     "data": {
      "text/plain": [
       "linspace(1.0,10.0,10)"
      ]
     },
     "execution_count": 5,
     "metadata": {},
     "output_type": "execute_result"
    }
   ],
   "source": [
    "c = linspace(1,10,10)"
   ]
  },
  {
   "cell_type": "code",
   "execution_count": 6,
   "metadata": {
    "collapsed": false
   },
   "outputs": [
    {
     "data": {
      "text/plain": [
       "4-element Array{Float64,1}:\n",
       " 1.0\n",
       " 1.0\n",
       " 1.0\n",
       " 1.0"
      ]
     },
     "execution_count": 6,
     "metadata": {},
     "output_type": "execute_result"
    }
   ],
   "source": [
    "d = ones(4)"
   ]
  },
  {
   "cell_type": "code",
   "execution_count": 7,
   "metadata": {
    "collapsed": false,
    "scrolled": true
   },
   "outputs": [
    {
     "data": {
      "text/plain": [
       "4x4 Array{Float64,2}:\n",
       " 0.637437  0.739726   0.189319  0.275779 \n",
       " 0.309787  0.0639646  0.586475  0.0414455\n",
       " 0.215599  0.877233   0.42396   0.0308213\n",
       " 0.471687  0.363446   0.899576  0.69237  "
      ]
     },
     "execution_count": 7,
     "metadata": {},
     "output_type": "execute_result"
    }
   ],
   "source": [
    "A = rand(4,4)"
   ]
  },
  {
   "cell_type": "markdown",
   "metadata": {},
   "source": [
    "Array indexing is from 1, not from 0.\n",
    "The final element is 'end' (similar to matlab).\n",
    "Negative indexing does not exist.\n",
    "Slicing and broadcasting do work."
   ]
  },
  {
   "cell_type": "code",
   "execution_count": 8,
   "metadata": {
    "collapsed": false
   },
   "outputs": [
    {
     "data": {
      "text/plain": [
       "0.6374370545201185"
      ]
     },
     "execution_count": 8,
     "metadata": {},
     "output_type": "execute_result"
    }
   ],
   "source": [
    "A[1]"
   ]
  },
  {
   "cell_type": "code",
   "execution_count": 9,
   "metadata": {
    "collapsed": false
   },
   "outputs": [
    {
     "ename": "LoadError",
     "evalue": "LoadError: BoundsError: attempt to access 4x4 Array{Float64,2}:\n 0.637437  0.739726   0.189319  0.275779 \n 0.309787  0.0639646  0.586475  0.0414455\n 0.215599  0.877233   0.42396   0.0308213\n 0.471687  0.363446   0.899576  0.69237  \n  at index [0]\nwhile loading In[9], in expression starting on line 1",
     "output_type": "error",
     "traceback": [
      "LoadError: BoundsError: attempt to access 4x4 Array{Float64,2}:\n 0.637437  0.739726   0.189319  0.275779 \n 0.309787  0.0639646  0.586475  0.0414455\n 0.215599  0.877233   0.42396   0.0308213\n 0.471687  0.363446   0.899576  0.69237  \n  at index [0]\nwhile loading In[9], in expression starting on line 1",
      "",
      " in getindex at array.jl:282"
     ]
    }
   ],
   "source": [
    "A[0]"
   ]
  },
  {
   "cell_type": "code",
   "execution_count": 10,
   "metadata": {
    "collapsed": false
   },
   "outputs": [
    {
     "data": {
      "text/plain": [
       "0.6923695054075336"
      ]
     },
     "execution_count": 10,
     "metadata": {},
     "output_type": "execute_result"
    }
   ],
   "source": [
    "A[end]"
   ]
  },
  {
   "cell_type": "code",
   "execution_count": 11,
   "metadata": {
    "collapsed": false
   },
   "outputs": [
    {
     "ename": "LoadError",
     "evalue": "LoadError: BoundsError: attempt to access 4x4 Array{Float64,2}:\n 0.637437  0.739726   0.189319  0.275779 \n 0.309787  0.0639646  0.586475  0.0414455\n 0.215599  0.877233   0.42396   0.0308213\n 0.471687  0.363446   0.899576  0.69237  \n  at index [-1]\nwhile loading In[11], in expression starting on line 1",
     "output_type": "error",
     "traceback": [
      "LoadError: BoundsError: attempt to access 4x4 Array{Float64,2}:\n 0.637437  0.739726   0.189319  0.275779 \n 0.309787  0.0639646  0.586475  0.0414455\n 0.215599  0.877233   0.42396   0.0308213\n 0.471687  0.363446   0.899576  0.69237  \n  at index [-1]\nwhile loading In[11], in expression starting on line 1",
      "",
      " in getindex at array.jl:282"
     ]
    }
   ],
   "source": [
    "A[-1]"
   ]
  },
  {
   "cell_type": "code",
   "execution_count": 12,
   "metadata": {
    "collapsed": false
   },
   "outputs": [
    {
     "data": {
      "text/plain": [
       "2x2 Array{Float64,2}:\n",
       " 0.637437  0.189319\n",
       " 0.215599  0.42396 "
      ]
     },
     "execution_count": 12,
     "metadata": {},
     "output_type": "execute_result"
    }
   ],
   "source": [
    "A[1:2:end,1:2:end]"
   ]
  },
  {
   "cell_type": "markdown",
   "metadata": {},
   "source": [
    "We can do various types of loops"
   ]
  },
  {
   "cell_type": "code",
   "execution_count": 13,
   "metadata": {
    "collapsed": false
   },
   "outputs": [
    {
     "data": {
      "text/plain": [
       "true"
      ]
     },
     "execution_count": 13,
     "metadata": {},
     "output_type": "execute_result"
    }
   ],
   "source": [
    "g = true"
   ]
  },
  {
   "cell_type": "code",
   "execution_count": 14,
   "metadata": {
    "collapsed": false
   },
   "outputs": [
    {
     "name": "stdout",
     "output_type": "stream",
     "text": [
      "11\n",
      "12\n",
      "13\n",
      "14\n",
      "15\n",
      "16\n"
     ]
    }
   ],
   "source": [
    "#g = true\n",
    "while(g)\n",
    "    a += 1;\n",
    "    if (rand()<0.05)\n",
    "        g = false;\n",
    "    end\n",
    "    print(a,\"\\n\");\n",
    "end"
   ]
  },
  {
   "cell_type": "code",
   "execution_count": 15,
   "metadata": {
    "collapsed": false
   },
   "outputs": [
    {
     "name": "stdout",
     "output_type": "stream",
     "text": [
      "0.6374370545201185\n",
      "0.30978693249108646\n",
      "0.21559943567911155\n",
      "0.4716871176849655\n",
      "0.7397261004984375\n",
      "0.06396458969942853\n",
      "0.8772329222235096\n",
      "0.3634455932699894\n",
      "0.18931929679804682\n",
      "0.5864749011488026\n",
      "0.42395981997720944\n",
      "0.8995756780941475\n",
      "0.27577909368201703\n",
      "0.041445509533803326\n",
      "0.030821278499895577\n",
      "0.6923695054075336\n"
     ]
    }
   ],
   "source": [
    "for (el in A)\n",
    "    print(el,\"\\n\")\n",
    "end"
   ]
  },
  {
   "cell_type": "code",
   "execution_count": 16,
   "metadata": {
    "collapsed": false
   },
   "outputs": [
    {
     "name": "stdout",
     "output_type": "stream",
     "text": [
      "before [1.0,1.0,1.0,1.0]\n",
      "after  [2.0,3.0,1.0,2.0]"
     ]
    }
   ],
   "source": [
    "print(\"before \",d)\n",
    "\n",
    "for (i=1:length(d))\n",
    "    d[i] += (i % 3)\n",
    "end\n",
    "\n",
    "print(\"\\nafter  \",d)"
   ]
  },
  {
   "cell_type": "markdown",
   "metadata": {},
   "source": [
    "Functions are an interesting place to begin to consider data types"
   ]
  },
  {
   "cell_type": "code",
   "execution_count": 17,
   "metadata": {
    "collapsed": false
   },
   "outputs": [
    {
     "data": {
      "text/plain": [
       "foo (generic function with 1 method)"
      ]
     },
     "execution_count": 17,
     "metadata": {},
     "output_type": "execute_result"
    }
   ],
   "source": [
    "# this is a comment, let's make a function\n",
    "function foo(bb)\n",
    "    print(\"Generic function foo()\\n\")\n",
    "    print(\"Argument value = \",bb,\"\\n\")\n",
    "end"
   ]
  },
  {
   "cell_type": "code",
   "execution_count": 18,
   "metadata": {
    "collapsed": false
   },
   "outputs": [
    {
     "name": "stdout",
     "output_type": "stream",
     "text": [
      "Generic function foo()\n",
      "Argument value = 16\n"
     ]
    }
   ],
   "source": [
    "foo(a)"
   ]
  },
  {
   "cell_type": "code",
   "execution_count": 19,
   "metadata": {
    "collapsed": false
   },
   "outputs": [
    {
     "data": {
      "text/plain": [
       "Int64"
      ]
     },
     "execution_count": 19,
     "metadata": {},
     "output_type": "execute_result"
    }
   ],
   "source": [
    "typeof(a)"
   ]
  },
  {
   "cell_type": "code",
   "execution_count": 20,
   "metadata": {
    "collapsed": false
   },
   "outputs": [
    {
     "data": {
      "text/plain": [
       "foo (generic function with 2 methods)"
      ]
     },
     "execution_count": 20,
     "metadata": {},
     "output_type": "execute_result"
    }
   ],
   "source": [
    "# let's make a function that takes floats only\n",
    "function foo(bb::Float64)\n",
    "    print(\"That was a float!\\n\");\n",
    "    print(\"Argument value = \",bb,\"\\n\");\n",
    "end"
   ]
  },
  {
   "cell_type": "code",
   "execution_count": 21,
   "metadata": {
    "collapsed": false
   },
   "outputs": [
    {
     "name": "stdout",
     "output_type": "stream",
     "text": [
      "search: print println print_joined print_escaped print_shortest print_unescaped\n",
      "\n"
     ]
    },
    {
     "data": {
      "text/latex": [
       "\\begin{verbatim}\n",
       "print(x)\n",
       "\\end{verbatim}\n",
       "Write (to the default output stream) a canonical (un-decorated) text representation of a value if there is one, otherwise call \\texttt{show}. The representation used by \\texttt{print} includes minimal formatting and tries to avoid Julia-specific details.\n"
      ],
      "text/markdown": [
       "```\n",
       "print(x)\n",
       "```\n",
       "\n",
       "Write (to the default output stream) a canonical (un-decorated) text representation of a value if there is one, otherwise call `show`. The representation used by `print` includes minimal formatting and tries to avoid Julia-specific details.\n"
      ],
      "text/plain": [
       "```\n",
       "print(x)\n",
       "```\n",
       "\n",
       "Write (to the default output stream) a canonical (un-decorated) text representation of a value if there is one, otherwise call `show`. The representation used by `print` includes minimal formatting and tries to avoid Julia-specific details.\n"
      ]
     },
     "execution_count": 21,
     "metadata": {},
     "output_type": "execute_result"
    }
   ],
   "source": [
    "?print # there is an online help system"
   ]
  },
  {
   "cell_type": "code",
   "execution_count": 22,
   "metadata": {
    "collapsed": false
   },
   "outputs": [
    {
     "name": "stdout",
     "output_type": "stream",
     "text": [
      "search: foo floor ifloor pointer_from_objref OverflowError RoundFromZero\n",
      "\n"
     ]
    },
    {
     "data": {
      "text/latex": [
       "No documentation found.\n",
       "\\texttt{foo} is a generic \\texttt{Function}.\n",
       "\\begin{verbatim}\n",
       "# 2 methods for generic function \"foo\":\n",
       "foo(bb::Float64) at In[20]:3\n",
       "foo(bb) at In[17]:3\n",
       "\\end{verbatim}\n"
      ],
      "text/markdown": [
       "No documentation found.\n",
       "\n",
       "`foo` is a generic `Function`.\n",
       "\n",
       "```julia\n",
       "# 2 methods for generic function \"foo\":\n",
       "foo(bb::Float64) at In[20]:3\n",
       "foo(bb) at In[17]:3\n",
       "```\n"
      ],
      "text/plain": [
       "No documentation found.\n",
       "\n",
       "`foo` is a generic `Function`.\n",
       "\n",
       "```julia\n",
       "# 2 methods for generic function \"foo\":\n",
       "foo(bb::Float64) at In[20]:3\n",
       "foo(bb) at In[17]:3\n",
       "```\n"
      ]
     },
     "execution_count": 22,
     "metadata": {},
     "output_type": "execute_result"
    }
   ],
   "source": [
    "?foo"
   ]
  },
  {
   "cell_type": "code",
   "execution_count": 23,
   "metadata": {
    "collapsed": false
   },
   "outputs": [
    {
     "name": "stdout",
     "output_type": "stream",
     "text": [
      "First call foo() on a=16 \n",
      "Generic function foo()\n",
      "Argument value = 16\n",
      "\n",
      "Now with a float, b=15.3\n",
      "That was a float!\n",
      "Argument value = 15.3\n"
     ]
    }
   ],
   "source": [
    "print(\"First call foo() on a=$a \\n\") #interpolated string\n",
    "foo(a)\n",
    "print(\"\\nNow with a float, b=$b\\n\")\n",
    "foo(b)"
   ]
  },
  {
   "cell_type": "markdown",
   "metadata": {},
   "source": [
    "Functions are pass by reference, which makes calls almost cost-free, but it means that variables changed\n",
    "within a function don't maintain the changes upon function exit.\n",
    "\n",
    "Arrays however contain references to their base variables within them, and so the pattern of access dictates whether those base value changes are maintained or not."
   ]
  },
  {
   "cell_type": "code",
   "execution_count": 24,
   "metadata": {
    "collapsed": false
   },
   "outputs": [
    {
     "data": {
      "text/plain": [
       "bar (generic function with 1 method)"
      ]
     },
     "execution_count": 24,
     "metadata": {},
     "output_type": "execute_result"
    }
   ],
   "source": [
    "function bar(d)\n",
    "    print(\"Upon entering function \",d,\"\\n\");\n",
    "    d += 45;\n",
    "    print(\"Leaving function \",d,\"\\n\");\n",
    "end"
   ]
  },
  {
   "cell_type": "code",
   "execution_count": 25,
   "metadata": {
    "collapsed": false
   },
   "outputs": [
    {
     "name": "stdout",
     "output_type": "stream",
     "text": [
      "16\n",
      "Upon entering function 16\n",
      "Leaving function 61\n",
      "16\n"
     ]
    }
   ],
   "source": [
    "print(a,\"\\n\")\n",
    "bar(a)\n",
    "print(a,\"\\n\")"
   ]
  },
  {
   "cell_type": "code",
   "execution_count": 26,
   "metadata": {
    "collapsed": false
   },
   "outputs": [
    {
     "name": "stdout",
     "output_type": "stream",
     "text": [
      "[2.0,3.0,1.0,2.0]\n",
      "Upon entering function [2.0,3.0,1.0,2.0]\n",
      "Leaving function [47.0,48.0,46.0,47.0]\n",
      "[2.0,3.0,1.0,2.0]\n"
     ]
    }
   ],
   "source": [
    "print(d,\"\\n\")\n",
    "bar(d)\n",
    "print(d,\"\\n\")"
   ]
  },
  {
   "cell_type": "code",
   "execution_count": 27,
   "metadata": {
    "collapsed": false
   },
   "outputs": [
    {
     "data": {
      "text/plain": [
       "bar2 (generic function with 1 method)"
      ]
     },
     "execution_count": 27,
     "metadata": {},
     "output_type": "execute_result"
    }
   ],
   "source": [
    "# now if we change how the matrix elements are accessed within the function\n",
    "function bar2(d)\n",
    "    print(\"Upon entering function \",d,\"\\n\");\n",
    "    for (i=1:length(d))\n",
    "        d[i] += 45;\n",
    "    end\n",
    "    print(\"Leaving function \",d,\"\\n\");\n",
    "end"
   ]
  },
  {
   "cell_type": "code",
   "execution_count": 28,
   "metadata": {
    "collapsed": false
   },
   "outputs": [
    {
     "name": "stdout",
     "output_type": "stream",
     "text": [
      "[2.0,3.0,1.0,2.0]\n",
      "Upon entering function [2.0,3.0,1.0,2.0]\n",
      "Leaving function [47.0,48.0,46.0,47.0]\n",
      "[47.0,48.0,46.0,47.0]\n"
     ]
    }
   ],
   "source": [
    "print(d,\"\\n\")\n",
    "bar2(d)\n",
    "print(d,\"\\n\")"
   ]
  },
  {
   "cell_type": "code",
   "execution_count": 29,
   "metadata": {
    "collapsed": false
   },
   "outputs": [
    {
     "data": {
      "text/plain": [
       "Array{Float64,1}"
      ]
     },
     "execution_count": 29,
     "metadata": {},
     "output_type": "execute_result"
    }
   ],
   "source": [
    "typeof(d)"
   ]
  },
  {
   "cell_type": "code",
   "execution_count": 30,
   "metadata": {
    "collapsed": false
   },
   "outputs": [
    {
     "data": {
      "text/plain": [
       "bar (generic function with 2 methods)"
      ]
     },
     "execution_count": 30,
     "metadata": {},
     "output_type": "execute_result"
    }
   ],
   "source": [
    "function bar(d::Array{Float64,1})\n",
    "    bar2(d);\n",
    "end"
   ]
  },
  {
   "cell_type": "code",
   "execution_count": 31,
   "metadata": {
    "collapsed": false
   },
   "outputs": [
    {
     "data": {
      "text/html": [
       "2 methods for generic function <b>bar</b>:<ul><li> bar(d::<b>Array{Float64,1}</b>) at In[30]:2<li> bar(d) at In[24]:2</ul>"
      ],
      "text/plain": [
       "# 2 methods for generic function \"bar\":\n",
       "bar(d::Array{Float64,1}) at In[30]:2\n",
       "bar(d) at In[24]:2"
      ]
     },
     "execution_count": 31,
     "metadata": {},
     "output_type": "execute_result"
    }
   ],
   "source": [
    "methods(bar)"
   ]
  },
  {
   "cell_type": "code",
   "execution_count": 32,
   "metadata": {
    "collapsed": false
   },
   "outputs": [
    {
     "data": {
      "text/html": [
       "1 method for generic function <b>bar2</b>:<ul><li> bar2(d) at In[27]:3</ul>"
      ],
      "text/plain": [
       "# 1 method for generic function \"bar2\":\n",
       "bar2(d) at In[27]:3"
      ]
     },
     "execution_count": 32,
     "metadata": {},
     "output_type": "execute_result"
    }
   ],
   "source": [
    "methods(bar2)"
   ]
  },
  {
   "cell_type": "code",
   "execution_count": 33,
   "metadata": {
    "collapsed": false
   },
   "outputs": [
    {
     "name": "stdout",
     "output_type": "stream",
     "text": [
      "[47.0,48.0,46.0,47.0]\n",
      "Upon entering function [47.0,48.0,46.0,47.0]\n",
      "Leaving function [92.0,93.0,91.0,92.0]\n",
      "[92.0,93.0,91.0,92.0]\n"
     ]
    }
   ],
   "source": [
    "print(d,\"\\n\")\n",
    "bar(d)\n",
    "print(d,\"\\n\")"
   ]
  },
  {
   "cell_type": "code",
   "execution_count": 34,
   "metadata": {
    "collapsed": false
   },
   "outputs": [
    {
     "name": "stdout",
     "output_type": "stream",
     "text": [
      "16\n",
      "Upon entering function 16\n",
      "Leaving function 61\n",
      "16\n"
     ]
    }
   ],
   "source": [
    "print(a,\"\\n\")\n",
    "bar(a)\n",
    "print(a,\"\\n\")"
   ]
  },
  {
   "cell_type": "markdown",
   "metadata": {},
   "source": [
    "Visualisation and calling a Python Library"
   ]
  },
  {
   "cell_type": "code",
   "execution_count": 35,
   "metadata": {
    "collapsed": false
   },
   "outputs": [
    {
     "name": "stderr",
     "output_type": "stream",
     "text": [
      "/Users/davidhiggins/anaconda/lib/python2.7/site-packages/matplotlib/font_manager.py:273: UserWarning: Matplotlib is building the font cache using fc-list. This may take a moment.\n",
      "  warnings.warn('Matplotlib is building the font cache using fc-list. This may take a moment.')\n",
      "WARNING: using PyPlot.bar in module Main conflicts with an existing identifier.\n"
     ]
    }
   ],
   "source": [
    "using PyPlot"
   ]
  },
  {
   "cell_type": "code",
   "execution_count": 36,
   "metadata": {
    "collapsed": true
   },
   "outputs": [],
   "source": [
    "x = linspace(-2π,2π,101);\n",
    "y = sin(x);"
   ]
  },
  {
   "cell_type": "code",
   "execution_count": 37,
   "metadata": {
    "collapsed": false
   },
   "outputs": [
    {
     "data": {
      "text/plain": [
       "linspace(-6.283185307179586,6.283185307179586,101)"
      ]
     },
     "execution_count": 37,
     "metadata": {},
     "output_type": "execute_result"
    }
   ],
   "source": [
    "x"
   ]
  },
  {
   "cell_type": "code",
   "execution_count": 38,
   "metadata": {
    "collapsed": false
   },
   "outputs": [
    {
     "data": {
      "image/png": "[encoded data removed]",
      "text/plain": [
       "PyPlot.Figure(PyObject <matplotlib.figure.Figure object at 0x3170a0e10>)"
      ]
     },
     "metadata": {},
     "output_type": "display_data"
    },
    {
     "data": {
      "text/plain": [
       "4-element Array{Float64,1}:\n",
       " -7.0\n",
       "  7.0\n",
       " -1.1\n",
       "  1.1"
      ]
     },
     "execution_count": 38,
     "metadata": {},
     "output_type": "execute_result"
    }
   ],
   "source": [
    "plot(x,y,\"r\",linewidth=10)\n",
    "axis([-7,7,-1.1,1.1])"
   ]
  },
  {
   "cell_type": "markdown",
   "metadata": {},
   "source": [
    "DataFrames are the Julia equivalent to Pandas"
   ]
  },
  {
   "cell_type": "code",
   "execution_count": 39,
   "metadata": {
    "collapsed": false
   },
   "outputs": [],
   "source": [
    "using DataFrames"
   ]
  },
  {
   "cell_type": "code",
   "execution_count": 40,
   "metadata": {
    "collapsed": false
   },
   "outputs": [
    {
     "data": {
      "image/png": "[encoded data removed]",
      "text/plain": [
       "PyPlot.Figure(PyObject <matplotlib.figure.Figure object at 0x3172acfd0>)"
      ]
     },
     "metadata": {},
     "output_type": "display_data"
    },
    {
     "data": {
      "text/plain": [
       "4-element Array{Int64,1}:\n",
       "       0\n",
       " 1000000\n",
       "       0\n",
       "      50"
      ]
     },
     "execution_count": 40,
     "metadata": {},
     "output_type": "execute_result"
    }
   ],
   "source": [
    "df = readtable(\"raster.dat\", header=false, commentmark='#', allowcomments=true, separator = ' ')\n",
    "figure()\n",
    "scatter(df[1],df[2])\n",
    "axis([0,1000000,0,50])"
   ]
  },
  {
   "cell_type": "code",
   "execution_count": 41,
   "metadata": {
    "collapsed": false
   },
   "outputs": [
    {
     "data": {
      "text/plain": [
       "3-element Array{Any,1}:\n",
       " [100003,100103,100503,100603,101003,101103,101503,101603,102003,102103  …  17913507,17913507,17913507,17913507,17913507,17913508,17913508,17913508,17913508,17913509]\n",
       " [5,20,6,21,7,22,8,23,9,24  …  17,26,27,36,45,12,13,16,28,14]                                                                                                         \n",
       " [1.00003,1.00103,1.00503,1.00603,1.01003,1.01103,1.01503,1.01603,1.02003,1.02103  …  0.02399,0.02397,0.02397,0.02397,0.02401,0.02399,0.02398,0.02401,0.02397,0.02398]"
      ]
     },
     "execution_count": 41,
     "metadata": {},
     "output_type": "execute_result"
    }
   ],
   "source": [
    "df.colindex\n",
    "df.columns"
   ]
  },
  {
   "cell_type": "code",
   "execution_count": 42,
   "metadata": {
    "collapsed": false
   },
   "outputs": [
    {
     "data": {
      "text/html": [
       "<table class=\"data-frame\"><tr><th></th><th>x1</th><th>x2</th><th>x3</th></tr><tr><th>1</th><td>100003</td><td>5</td><td>1.00003</td></tr><tr><th>2</th><td>100103</td><td>20</td><td>1.00103</td></tr><tr><th>3</th><td>100503</td><td>6</td><td>1.00503</td></tr><tr><th>4</th><td>100603</td><td>21</td><td>1.00603</td></tr><tr><th>5</th><td>101003</td><td>7</td><td>1.01003</td></tr><tr><th>6</th><td>101103</td><td>22</td><td>1.01103</td></tr><tr><th>7</th><td>101503</td><td>8</td><td>1.01503</td></tr><tr><th>8</th><td>101603</td><td>23</td><td>1.01603</td></tr><tr><th>9</th><td>102003</td><td>9</td><td>1.02003</td></tr><tr><th>10</th><td>102103</td><td>24</td><td>1.02103</td></tr><tr><th>11</th><td>102503</td><td>10</td><td>1.02503</td></tr><tr><th>12</th><td>102603</td><td>25</td><td>1.02603</td></tr><tr><th>13</th><td>103003</td><td>11</td><td>1.03003</td></tr><tr><th>14</th><td>103103</td><td>26</td><td>1.03103</td></tr><tr><th>15</th><td>103503</td><td>12</td><td>1.03503</td></tr><tr><th>16</th><td>103603</td><td>27</td><td>1.03603</td></tr><tr><th>17</th><td>104003</td><td>13</td><td>1.04003</td></tr><tr><th>18</th><td>104103</td><td>28</td><td>1.04103</td></tr><tr><th>19</th><td>104503</td><td>14</td><td>1.04503</td></tr><tr><th>20</th><td>104603</td><td>29</td><td>1.04603</td></tr><tr><th>21</th><td>105003</td><td>15</td><td>1.05003</td></tr><tr><th>22</th><td>105103</td><td>30</td><td>1.05103</td></tr><tr><th>23</th><td>105503</td><td>16</td><td>1.05503</td></tr><tr><th>24</th><td>105603</td><td>31</td><td>1.05603</td></tr><tr><th>25</th><td>106003</td><td>17</td><td>1.06003</td></tr><tr><th>26</th><td>106103</td><td>32</td><td>1.06103</td></tr><tr><th>27</th><td>106503</td><td>18</td><td>1.06503</td></tr><tr><th>28</th><td>106603</td><td>33</td><td>1.06603</td></tr><tr><th>29</th><td>107003</td><td>19</td><td>1.07003</td></tr><tr><th>30</th><td>107103</td><td>34</td><td>1.07103</td></tr><tr><th>&vellip;</th><td>&vellip;</td><td>&vellip;</td><td>&vellip;</td></tr></table>"
      ],
      "text/plain": [
       "43489×3 DataFrames.DataFrame\n",
       "│ Row   │ x1       │ x2 │ x3      │\n",
       "├───────┼──────────┼────┼─────────┤\n",
       "│ 1     │ 100003   │ 5  │ 1.00003 │\n",
       "│ 2     │ 100103   │ 20 │ 1.00103 │\n",
       "│ 3     │ 100503   │ 6  │ 1.00503 │\n",
       "│ 4     │ 100603   │ 21 │ 1.00603 │\n",
       "│ 5     │ 101003   │ 7  │ 1.01003 │\n",
       "│ 6     │ 101103   │ 22 │ 1.01103 │\n",
       "│ 7     │ 101503   │ 8  │ 1.01503 │\n",
       "│ 8     │ 101603   │ 23 │ 1.01603 │\n",
       "│ 9     │ 102003   │ 9  │ 1.02003 │\n",
       "│ 10    │ 102103   │ 24 │ 1.02103 │\n",
       "│ 11    │ 102503   │ 10 │ 1.02503 │\n",
       "⋮\n",
       "│ 43478 │ 17913507 │ 11 │ 0.02399 │\n",
       "│ 43479 │ 17913507 │ 15 │ 0.02401 │\n",
       "│ 43480 │ 17913507 │ 17 │ 0.02399 │\n",
       "│ 43481 │ 17913507 │ 26 │ 0.02397 │\n",
       "│ 43482 │ 17913507 │ 27 │ 0.02397 │\n",
       "│ 43483 │ 17913507 │ 36 │ 0.02397 │\n",
       "│ 43484 │ 17913507 │ 45 │ 0.02401 │\n",
       "│ 43485 │ 17913508 │ 12 │ 0.02399 │\n",
       "│ 43486 │ 17913508 │ 13 │ 0.02398 │\n",
       "│ 43487 │ 17913508 │ 16 │ 0.02401 │\n",
       "│ 43488 │ 17913508 │ 28 │ 0.02397 │\n",
       "│ 43489 │ 17913509 │ 14 │ 0.02398 │"
      ]
     },
     "execution_count": 42,
     "metadata": {},
     "output_type": "execute_result"
    }
   ],
   "source": [
    "df"
   ]
  },
  {
   "cell_type": "code",
   "execution_count": 43,
   "metadata": {
    "collapsed": false
   },
   "outputs": [
    {
     "data": {
      "text/plain": [
       "DataFrames.DataFrame"
      ]
     },
     "execution_count": 43,
     "metadata": {},
     "output_type": "execute_result"
    }
   ],
   "source": [
    "typeof(df)"
   ]
  },
  {
   "cell_type": "code",
   "execution_count": 44,
   "metadata": {
    "collapsed": false
   },
   "outputs": [
    {
     "data": {
      "text/plain": [
       "3-element Array{Symbol,1}:\n",
       " :x1\n",
       " :x2\n",
       " :x3"
      ]
     },
     "execution_count": 44,
     "metadata": {},
     "output_type": "execute_result"
    }
   ],
   "source": [
    "names(df)"
   ]
  },
  {
   "cell_type": "code",
   "execution_count": 45,
   "metadata": {
    "collapsed": false
   },
   "outputs": [
    {
     "data": {
      "text/plain": [
       "(43489,3)"
      ]
     },
     "execution_count": 45,
     "metadata": {},
     "output_type": "execute_result"
    }
   ],
   "source": [
    "size(df)"
   ]
  },
  {
   "cell_type": "code",
   "execution_count": 46,
   "metadata": {
    "collapsed": false
   },
   "outputs": [
    {
     "name": "stdout",
     "output_type": "stream",
     "text": [
      "43489×3 DataFrames.DataFrame\n",
      "│ Col # │ Name │ Eltype  │ Missing │\n",
      "├───────┼──────┼─────────┼─────────┤\n",
      "│ 1     │ x1   │ Int64   │ 0       │\n",
      "│ 2     │ x2   │ Int64   │ 0       │\n",
      "│ 3     │ x3   │ Float64 │ 0       │"
     ]
    }
   ],
   "source": [
    "showcols(df)"
   ]
  },
  {
   "cell_type": "code",
   "execution_count": 47,
   "metadata": {
    "collapsed": false
   },
   "outputs": [
    {
     "data": {
      "text/plain": [
       "43489-element DataArrays.DataArray{Int64,1}:\n",
       "  5\n",
       " 20\n",
       "  6\n",
       " 21\n",
       "  7\n",
       " 22\n",
       "  8\n",
       " 23\n",
       "  9\n",
       " 24\n",
       " 10\n",
       " 25\n",
       " 11\n",
       "  ⋮\n",
       " 11\n",
       " 15\n",
       " 17\n",
       " 26\n",
       " 27\n",
       " 36\n",
       " 45\n",
       " 12\n",
       " 13\n",
       " 16\n",
       " 28\n",
       " 14"
      ]
     },
     "execution_count": 47,
     "metadata": {},
     "output_type": "execute_result"
    }
   ],
   "source": [
    "df[:x2] #column with label x2"
   ]
  },
  {
   "cell_type": "code",
   "execution_count": 48,
   "metadata": {
    "collapsed": false
   },
   "outputs": [
    {
     "data": {
      "text/html": [
       "<table class=\"data-frame\"><tr><th></th><th>x1</th><th>x2</th><th>x3</th></tr><tr><th>1</th><td>100103</td><td>20</td><td>1.00103</td></tr><tr><th>2</th><td>100603</td><td>21</td><td>1.00603</td></tr><tr><th>3</th><td>101103</td><td>22</td><td>1.01103</td></tr><tr><th>4</th><td>101603</td><td>23</td><td>1.01603</td></tr><tr><th>5</th><td>102103</td><td>24</td><td>1.02103</td></tr><tr><th>6</th><td>102603</td><td>25</td><td>1.02603</td></tr><tr><th>7</th><td>103003</td><td>11</td><td>1.03003</td></tr><tr><th>8</th><td>103103</td><td>26</td><td>1.03103</td></tr><tr><th>9</th><td>103503</td><td>12</td><td>1.03503</td></tr><tr><th>10</th><td>103603</td><td>27</td><td>1.03603</td></tr><tr><th>11</th><td>104003</td><td>13</td><td>1.04003</td></tr><tr><th>12</th><td>104103</td><td>28</td><td>1.04103</td></tr><tr><th>13</th><td>104503</td><td>14</td><td>1.04503</td></tr><tr><th>14</th><td>104603</td><td>29</td><td>1.04603</td></tr><tr><th>15</th><td>105003</td><td>15</td><td>1.05003</td></tr><tr><th>16</th><td>105103</td><td>30</td><td>1.05103</td></tr><tr><th>17</th><td>105503</td><td>16</td><td>1.05503</td></tr><tr><th>18</th><td>105603</td><td>31</td><td>1.05603</td></tr><tr><th>19</th><td>106003</td><td>17</td><td>1.06003</td></tr><tr><th>20</th><td>106103</td><td>32</td><td>1.06103</td></tr><tr><th>21</th><td>106503</td><td>18</td><td>1.06503</td></tr><tr><th>22</th><td>106603</td><td>33</td><td>1.06603</td></tr><tr><th>23</th><td>107003</td><td>19</td><td>1.07003</td></tr><tr><th>24</th><td>107103</td><td>34</td><td>1.07103</td></tr><tr><th>25</th><td>107503</td><td>20</td><td>0.074</td></tr><tr><th>26</th><td>107603</td><td>35</td><td>1.07603</td></tr><tr><th>27</th><td>108003</td><td>21</td><td>0.074</td></tr><tr><th>28</th><td>108103</td><td>36</td><td>1.08103</td></tr><tr><th>29</th><td>108503</td><td>22</td><td>0.074</td></tr><tr><th>30</th><td>108603</td><td>37</td><td>1.08603</td></tr><tr><th>&vellip;</th><td>&vellip;</td><td>&vellip;</td><td>&vellip;</td></tr></table>"
      ],
      "text/plain": [
       "39361×3 DataFrames.DataFrame\n",
       "│ Row   │ x1       │ x2 │ x3      │\n",
       "├───────┼──────────┼────┼─────────┤\n",
       "│ 1     │ 100103   │ 20 │ 1.00103 │\n",
       "│ 2     │ 100603   │ 21 │ 1.00603 │\n",
       "│ 3     │ 101103   │ 22 │ 1.01103 │\n",
       "│ 4     │ 101603   │ 23 │ 1.01603 │\n",
       "│ 5     │ 102103   │ 24 │ 1.02103 │\n",
       "│ 6     │ 102603   │ 25 │ 1.02603 │\n",
       "│ 7     │ 103003   │ 11 │ 1.03003 │\n",
       "│ 8     │ 103103   │ 26 │ 1.03103 │\n",
       "│ 9     │ 103503   │ 12 │ 1.03503 │\n",
       "│ 10    │ 103603   │ 27 │ 1.03603 │\n",
       "│ 11    │ 104003   │ 13 │ 1.04003 │\n",
       "⋮\n",
       "│ 39350 │ 17913507 │ 11 │ 0.02399 │\n",
       "│ 39351 │ 17913507 │ 15 │ 0.02401 │\n",
       "│ 39352 │ 17913507 │ 17 │ 0.02399 │\n",
       "│ 39353 │ 17913507 │ 26 │ 0.02397 │\n",
       "│ 39354 │ 17913507 │ 27 │ 0.02397 │\n",
       "│ 39355 │ 17913507 │ 36 │ 0.02397 │\n",
       "│ 39356 │ 17913507 │ 45 │ 0.02401 │\n",
       "│ 39357 │ 17913508 │ 12 │ 0.02399 │\n",
       "│ 39358 │ 17913508 │ 13 │ 0.02398 │\n",
       "│ 39359 │ 17913508 │ 16 │ 0.02401 │\n",
       "│ 39360 │ 17913508 │ 28 │ 0.02397 │\n",
       "│ 39361 │ 17913509 │ 14 │ 0.02398 │"
      ]
     },
     "execution_count": 48,
     "metadata": {},
     "output_type": "execute_result"
    }
   ],
   "source": [
    "df[df[:x2].>10,:] # boolean based selection"
   ]
  },
  {
   "cell_type": "code",
   "execution_count": 49,
   "metadata": {
    "collapsed": false
   },
   "outputs": [
    {
     "data": {
      "text/plain": [
       "3-element Array{Any,1}:\n",
       " [1.0666886826461865e7]\n",
       " [27.984501828048472]  \n",
       " [0.18535279449975867] "
      ]
     },
     "execution_count": 49,
     "metadata": {},
     "output_type": "execute_result"
    }
   ],
   "source": [
    "colwise(mean,df) # get the mean of each column"
   ]
  },
  {
   "cell_type": "code",
   "execution_count": 50,
   "metadata": {
    "collapsed": false
   },
   "outputs": [
    {
     "name": "stdout",
     "output_type": "stream",
     "text": [
      "x1\n",
      "Min      100003.0\n",
      "1st Qu.  7.204506e6\n",
      "Median   1.0802106e7\n",
      "Mean     1.0666886826461865e7\n",
      "3rd Qu.  1.4400008e7\n",
      "Max      1.7913509e7\n",
      "NAs      0\n",
      "NA%      0.0%\n",
      "\n",
      "x2\n",
      "Min      5.0\n",
      "1st Qu.  17.0\n",
      "Median   28.0\n",
      "Mean     27.984501828048472\n",
      "3rd Qu.  39.0\n",
      "Max      49.0\n",
      "NAs      0\n",
      "NA%      0.0%\n",
      "\n",
      "x3\n",
      "Min      0.02006\n",
      "1st Qu.  0.02101\n",
      "Median   0.02398\n",
      "Mean     0.18535279449975867\n",
      "3rd Qu.  0.02402\n",
      "Max      1.14603\n",
      "NAs      0\n",
      "NA%      0.0%\n",
      "\n"
     ]
    }
   ],
   "source": [
    "describe(df)"
   ]
  },
  {
   "cell_type": "markdown",
   "metadata": {},
   "source": [
    "Code introspection"
   ]
  },
  {
   "cell_type": "code",
   "execution_count": 51,
   "metadata": {
    "collapsed": false
   },
   "outputs": [
    {
     "data": {
      "text/plain": [
       "goo (generic function with 1 method)"
      ]
     },
     "execution_count": 51,
     "metadata": {},
     "output_type": "execute_result"
    }
   ],
   "source": [
    "function goo(a)\n",
    "    print(\"In generic function goo\\n\");\n",
    "    a += 1;\n",
    "end"
   ]
  },
  {
   "cell_type": "code",
   "execution_count": 52,
   "metadata": {
    "collapsed": false
   },
   "outputs": [
    {
     "data": {
      "text/plain": [
       "1-element Array{Any,1}:\n",
       " :($(Expr(:lambda, Any[:a], Any[Any[Any[:a,:Any,18]],Any[],1,Any[]], :(begin  # In[51], line 2:\n",
       "        (Main.print)(\"In generic function goo\\n\") # In[51], line 3:\n",
       "        GenSym(0) = a + 1\n",
       "        a = GenSym(0)\n",
       "        return GenSym(0)\n",
       "    end))))"
      ]
     },
     "execution_count": 52,
     "metadata": {},
     "output_type": "execute_result"
    }
   ],
   "source": [
    "@code_lowered goo(1)"
   ]
  },
  {
   "cell_type": "code",
   "execution_count": 53,
   "metadata": {
    "collapsed": false
   },
   "outputs": [
    {
     "data": {
      "text/plain": [
       "1-element Array{Any,1}:\n",
       " :($(Expr(:lambda, Any[:a], Any[Any[Any[:a,:Any,18]],Any[],1,Any[]], :(begin  # In[51], line 2:\n",
       "        (Main.print)(\"In generic function goo\\n\") # In[51], line 3:\n",
       "        GenSym(0) = a + 1\n",
       "        a = GenSym(0)\n",
       "        return GenSym(0)\n",
       "    end))))"
      ]
     },
     "execution_count": 53,
     "metadata": {},
     "output_type": "execute_result"
    }
   ],
   "source": [
    "@code_lowered goo(1.0)"
   ]
  },
  {
   "cell_type": "code",
   "execution_count": 54,
   "metadata": {
    "collapsed": false
   },
   "outputs": [
    {
     "data": {
      "text/plain": [
       "1-element Array{Any,1}:\n",
       " :($(Expr(:lambda, Any[:a], Any[Any[Any[:a,Int64,18],Any[symbol(\"##xs#10225\"),Tuple{ASCIIString},0]],Any[],Any[Int64],Any[]], :(begin  # In[51], line 2:\n",
       "        (Base.print)(Base.STDOUT,\"In generic function goo\\n\") # In[51], line 3:\n",
       "        GenSym(0) = (Base.box)(Base.Int,(Base.add_int)(a::Int64,1))\n",
       "        a = GenSym(0)\n",
       "        return GenSym(0)\n",
       "    end::Int64))))"
      ]
     },
     "execution_count": 54,
     "metadata": {},
     "output_type": "execute_result"
    }
   ],
   "source": [
    "@code_typed goo(1)"
   ]
  },
  {
   "cell_type": "code",
   "execution_count": 55,
   "metadata": {
    "collapsed": false
   },
   "outputs": [
    {
     "name": "stdout",
     "output_type": "stream",
     "text": [
      "\t.section\t__TEXT,__text,regular,pure_instructions\n",
      "Filename: In[51]\n",
      "Source line: 2\n",
      "\tpushq\t%rbp\n",
      "\tmovq\t%rsp, %rbp\n",
      "\tpushq\t%r14\n",
      "\tpushq\t%rbx\n",
      "\tsubq\t$32, %rsp\n",
      "\tmovq\t%rdi, %rbx\n",
      "Source line: 2\n",
      "\tmovq\t$4, -48(%rbp)\n",
      "\tmovabsq\t$jl_pgcstack, %r14\n",
      "\tmovq\t(%r14), %rax\n",
      "\tmovq\t%rax, -40(%rbp)\n",
      "\tleaq\t-48(%rbp), %rax\n",
      "\tmovq\t%rax, (%r14)\n",
      "\txorps\t%xmm0, %xmm0\n",
      "\tmovups\t%xmm0, -32(%rbp)\n",
      "\tmovabsq\t$4395287512, %rax       ## imm = 0x105FAC3D8\n",
      "Source line: 2\n",
      "\tmovq\t(%rax), %rax\n",
      "\tmovq\t%rax, -32(%rbp)\n",
      "Source line: 2\n",
      "\tleaq\t-32(%rbp), %rsi\n",
      "Source line: 2\n",
      "\tmovabsq\t$jl_apply_generic, %rax\n",
      "\tmovabsq\t$4435015088, %rcx       ## imm = 0x10858F5B0\n",
      "\tmovq\t%rcx, -24(%rbp)\n",
      "\tmovabsq\t$4400076016, %rdi       ## imm = 0x10643D4F0\n",
      "\tmovl\t$2, %edx\n",
      "\tcallq\t*%rax\n",
      "Source line: 3\n",
      "\tleaq\t1(%rbx), %rax\n",
      "\tmovq\t-40(%rbp), %rcx\n",
      "\tmovq\t%rcx, (%r14)\n",
      "\taddq\t$32, %rsp\n",
      "\tpopq\t%rbx\n",
      "\tpopq\t%r14\n",
      "\tpopq\t%rbp\n",
      "\tret\n"
     ]
    }
   ],
   "source": [
    "@code_native goo(1)"
   ]
  },
  {
   "cell_type": "code",
   "execution_count": null,
   "metadata": {
    "collapsed": true
   },
   "outputs": [],
   "source": []
  },
  {
   "cell_type": "code",
   "execution_count": null,
   "metadata": {
    "collapsed": true
   },
   "outputs": [],
   "source": []
  },
  {
   "cell_type": "code",
   "execution_count": null,
   "metadata": {
    "collapsed": true
   },
   "outputs": [],
   "source": []
  }
 ],
 "metadata": {
  "kernelspec": {
   "display_name": "Julia 0.4.5",
   "language": "julia",
   "name": "julia-0.4"
  },
  "language_info": {
   "file_extension": ".jl",
   "mimetype": "application/julia",
   "name": "julia",
   "version": "0.4.5"
  }
 },
 "nbformat": 4,
 "nbformat_minor": 0
}
